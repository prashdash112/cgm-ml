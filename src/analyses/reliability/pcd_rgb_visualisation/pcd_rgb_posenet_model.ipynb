{
 "cells": [
  {
   "cell_type": "markdown",
   "metadata": {},
   "source": [
    "# Notebook to Visualize pcd,rgb,point pridictions "
   ]
  },
  {
   "cell_type": "markdown",
   "metadata": {},
   "source": [
    "The purpose of the notebook is to visualize the pcd rgb and posenet corresponding to model"
   ]
  },
  {
   "cell_type": "code",
   "execution_count": 38,
   "metadata": {},
   "outputs": [
    {
     "data": {
      "text/html": [
       "        <script type=\"text/javascript\">\n",
       "        window.PlotlyConfig = {MathJaxConfig: 'local'};\n",
       "        if (window.MathJax) {MathJax.Hub.Config({SVG: {font: \"STIX-Web\"}});}\n",
       "        if (typeof require !== 'undefined') {\n",
       "        require.undef(\"plotly\");\n",
       "        requirejs.config({\n",
       "            paths: {\n",
       "                'plotly': ['https://cdn.plot.ly/plotly-latest.min']\n",
       "            }\n",
       "        });\n",
       "        require(['plotly'], function(Plotly) {\n",
       "            window._Plotly = Plotly;\n",
       "        });\n",
       "        }\n",
       "        </script>\n",
       "        "
      ]
     },
     "metadata": {},
     "output_type": "display_data"
    }
   ],
   "source": [
    "import pandas as pd\n",
    "import cufflinks\n",
    "cufflinks.go_offline(connected=True)\n",
    "from ipywidgets import interact_manual\n",
    "import scipy\n",
    "\n",
    "from visualizeutils import (selectData, imageshow, pcdrgb)\n"
   ]
  },
  {
   "cell_type": "raw",
   "metadata": {},
   "source": [
    "SELECT replace('{}'\".format(replace_path)|| split_part(a_pcd.storage_path,'/storage/emulated/0/Child Growth Monitor Scanner App/', 2),'measurements', 'measure'),\"\n",
    "replace('{}'\".format(replace_path)|| split_part(a_rgb.storage_path,'/storage/emulated/0/Child Growth Monitor Scanner App/', 2),'measurements', 'measure'),\n",
    "m_truth.age,\n",
    "ar_height.model_id,\n",
    "abs(m_truth.height - ar_height.float_value) AS ae,\n",
    "ar_pose.confidence_value,\n",
    "ar_pose.json_value->'pose_1' -> 'nose'->'score' as nose,ar_pose.json_value->'pose_1' -> 'leftAnkle'->'score',ar_pose.json_value->'pose_1' -> 'leftEar'->'score',ar_pose.json_value->'pose_1' -> 'leftElbow'->'score',ar_pose.json_value->'pose_1' -> 'leftEye'->'score',ar_pose.json_value->'pose_1' -> 'leftHip'->'score',ar_pose.json_value->'pose_1' -> 'leftKnee'->'score',ar_pose.json_value->'pose_1' -> 'leftShoulder'->'score',ar_pose.json_value->'pose_1' -> 'leftWrist'->'score',ar_pose.json_value->'pose_1' -> 'rightAnkle'->'score',ar_pose.json_value->'pose_1' -> 'rightEar'->'score',ar_pose.json_value->'pose_1' -> 'rightElbow'->'score',ar_pose.json_value->'pose_1' -> 'rightEye'->'score',ar_pose.json_value->'pose_1' -> 'rightHip'->'score',ar_pose.json_value->'pose_1' -> 'rightKnee'->'score',ar_pose.json_value->'pose_1' -> 'rightShoulder'->'score',ar_pose.json_value->'pose_1' -> 'rightWrist'->'score' \n",
    "FROM measure m_scan \n",
    "JOIN measure m_truth ON m_scan.qr_code::text = m_truth.qr_code::text AND m_scan.age = m_truth.age \n",
    "JOIN artifact a_pcd ON a_pcd.measure_id = m_scan.id::text JOIN artifact_result ar_height ON ar_height.artifact_id::text = a_pcd.id::text \n",
    "JOIN artifact a_rgb ON a_pcd.measure_id = a_rgb.measure_id AND round(a_pcd.session_timestamp::numeric, 2) = round(a_rgb.session_timestamp::numeric, 2) \n",
    "JOIN artifact_result ar_pose ON ar_pose.artifact_id::text = a_rgb.id::text \n",
    "WHERE a_pcd.dataformat = 'pcd'::text AND a_rgb.dataformat = 'rgb'::text AND m_truth.type = 'manual'::text AND ar_pose.model_id ~~ '%pose%'::text AND ar_height.model_id like '%height%' and a_pcd.status=204 and a_rgb.status=204\";"
   ]
  },
  {
   "cell_type": "code",
   "execution_count": 39,
   "metadata": {},
   "outputs": [
    {
     "data": {
      "text/plain": [
       "(910, 23)"
      ]
     },
     "execution_count": 39,
     "metadata": {},
     "output_type": "execute_result"
    }
   ],
   "source": [
    "artifacts = pd.read_csv('../posenetVSheightmodel.csv')\n",
    "artifacts.shape"
   ]
  },
  {
   "cell_type": "code",
   "execution_count": 40,
   "metadata": {},
   "outputs": [
    {
     "data": {
      "text/html": [
       "<div>\n",
       "<style scoped>\n",
       "    .dataframe tbody tr th:only-of-type {\n",
       "        vertical-align: middle;\n",
       "    }\n",
       "\n",
       "    .dataframe tbody tr th {\n",
       "        vertical-align: top;\n",
       "    }\n",
       "\n",
       "    .dataframe thead th {\n",
       "        text-align: right;\n",
       "    }\n",
       "</style>\n",
       "<table border=\"1\" class=\"dataframe\">\n",
       "  <thead>\n",
       "    <tr style=\"text-align: right;\">\n",
       "      <th></th>\n",
       "      <th>pcd_file</th>\n",
       "      <th>rgb_file</th>\n",
       "      <th>age</th>\n",
       "      <th>model_id</th>\n",
       "      <th>error</th>\n",
       "      <th>score</th>\n",
       "      <th>json_value_pose_1_nose_score</th>\n",
       "      <th>json_value_pose_1_leftAnkle_score</th>\n",
       "      <th>json_value_pose_1_leftEar_score</th>\n",
       "      <th>json_value_pose_1_leftElbow_score</th>\n",
       "      <th>...</th>\n",
       "      <th>json_value_pose_1_leftShoulder_score</th>\n",
       "      <th>json_value_pose_1_leftWrist_score</th>\n",
       "      <th>json_value_pose_1_rightAnkle_score</th>\n",
       "      <th>json_value_pose_1_rightEar_score</th>\n",
       "      <th>json_value_pose_1_rightElbow_score</th>\n",
       "      <th>json_value_pose_1_rightEye_score</th>\n",
       "      <th>json_value_pose_1_rightHip_score</th>\n",
       "      <th>json_value_pose_1_rightKnee_score</th>\n",
       "      <th>json_value_pose_1_rightShoulder_score</th>\n",
       "      <th>json_value_pose_1_rightWrist_score</th>\n",
       "    </tr>\n",
       "  </thead>\n",
       "  <tbody>\n",
       "    <tr>\n",
       "      <th>0</th>\n",
       "      <td>/mnt/cgminbmzqa/qrcode/IN_AAH_RJ_00355/measure...</td>\n",
       "      <td>/mnt/cgminbmzqa/qrcode/IN_AAH_RJ_00355/measure...</td>\n",
       "      <td>650</td>\n",
       "      <td>20190708-0919_2379-595height</td>\n",
       "      <td>7.760607</td>\n",
       "      <td>0.0</td>\n",
       "      <td>NaN</td>\n",
       "      <td>NaN</td>\n",
       "      <td>NaN</td>\n",
       "      <td>NaN</td>\n",
       "      <td>...</td>\n",
       "      <td>NaN</td>\n",
       "      <td>NaN</td>\n",
       "      <td>NaN</td>\n",
       "      <td>NaN</td>\n",
       "      <td>NaN</td>\n",
       "      <td>NaN</td>\n",
       "      <td>NaN</td>\n",
       "      <td>NaN</td>\n",
       "      <td>NaN</td>\n",
       "      <td>NaN</td>\n",
       "    </tr>\n",
       "    <tr>\n",
       "      <th>1</th>\n",
       "      <td>/mnt/cgminbmzqa/qrcode/IN_AAH_RJ_00355/measure...</td>\n",
       "      <td>/mnt/cgminbmzqa/qrcode/IN_AAH_RJ_00355/measure...</td>\n",
       "      <td>650</td>\n",
       "      <td>20190806-1551_220-55height</td>\n",
       "      <td>5.824747</td>\n",
       "      <td>0.0</td>\n",
       "      <td>NaN</td>\n",
       "      <td>NaN</td>\n",
       "      <td>NaN</td>\n",
       "      <td>NaN</td>\n",
       "      <td>...</td>\n",
       "      <td>NaN</td>\n",
       "      <td>NaN</td>\n",
       "      <td>NaN</td>\n",
       "      <td>NaN</td>\n",
       "      <td>NaN</td>\n",
       "      <td>NaN</td>\n",
       "      <td>NaN</td>\n",
       "      <td>NaN</td>\n",
       "      <td>NaN</td>\n",
       "      <td>NaN</td>\n",
       "    </tr>\n",
       "    <tr>\n",
       "      <th>2</th>\n",
       "      <td>/mnt/cgminbmzqa/qrcode/IN_AAH_RJ_00355/measure...</td>\n",
       "      <td>/mnt/cgminbmzqa/qrcode/IN_AAH_RJ_00355/measure...</td>\n",
       "      <td>650</td>\n",
       "      <td>GAPNet_height_s1</td>\n",
       "      <td>8.708862</td>\n",
       "      <td>0.0</td>\n",
       "      <td>NaN</td>\n",
       "      <td>NaN</td>\n",
       "      <td>NaN</td>\n",
       "      <td>NaN</td>\n",
       "      <td>...</td>\n",
       "      <td>NaN</td>\n",
       "      <td>NaN</td>\n",
       "      <td>NaN</td>\n",
       "      <td>NaN</td>\n",
       "      <td>NaN</td>\n",
       "      <td>NaN</td>\n",
       "      <td>NaN</td>\n",
       "      <td>NaN</td>\n",
       "      <td>NaN</td>\n",
       "      <td>NaN</td>\n",
       "    </tr>\n",
       "    <tr>\n",
       "      <th>3</th>\n",
       "      <td>/mnt/cgminbmzqa/qrcode/IN_AAH_RJ_00355/measure...</td>\n",
       "      <td>/mnt/cgminbmzqa/qrcode/IN_AAH_RJ_00355/measure...</td>\n",
       "      <td>650</td>\n",
       "      <td>q3-cnndepthmap-resnet-height_run_13</td>\n",
       "      <td>11.006977</td>\n",
       "      <td>0.0</td>\n",
       "      <td>NaN</td>\n",
       "      <td>NaN</td>\n",
       "      <td>NaN</td>\n",
       "      <td>NaN</td>\n",
       "      <td>...</td>\n",
       "      <td>NaN</td>\n",
       "      <td>NaN</td>\n",
       "      <td>NaN</td>\n",
       "      <td>NaN</td>\n",
       "      <td>NaN</td>\n",
       "      <td>NaN</td>\n",
       "      <td>NaN</td>\n",
       "      <td>NaN</td>\n",
       "      <td>NaN</td>\n",
       "      <td>NaN</td>\n",
       "    </tr>\n",
       "    <tr>\n",
       "      <th>4</th>\n",
       "      <td>/mnt/cgminbmzqa/qrcode/IN_AAH_RJ_00355/measure...</td>\n",
       "      <td>/mnt/cgminbmzqa/qrcode/IN_AAH_RJ_00355/measure...</td>\n",
       "      <td>650</td>\n",
       "      <td>q3-depthmap-plaincnn-height-100-95k_run_03</td>\n",
       "      <td>9.864527</td>\n",
       "      <td>0.0</td>\n",
       "      <td>NaN</td>\n",
       "      <td>NaN</td>\n",
       "      <td>NaN</td>\n",
       "      <td>NaN</td>\n",
       "      <td>...</td>\n",
       "      <td>NaN</td>\n",
       "      <td>NaN</td>\n",
       "      <td>NaN</td>\n",
       "      <td>NaN</td>\n",
       "      <td>NaN</td>\n",
       "      <td>NaN</td>\n",
       "      <td>NaN</td>\n",
       "      <td>NaN</td>\n",
       "      <td>NaN</td>\n",
       "      <td>NaN</td>\n",
       "    </tr>\n",
       "  </tbody>\n",
       "</table>\n",
       "<p>5 rows × 23 columns</p>\n",
       "</div>"
      ],
      "text/plain": [
       "                                            pcd_file  \\\n",
       "0  /mnt/cgminbmzqa/qrcode/IN_AAH_RJ_00355/measure...   \n",
       "1  /mnt/cgminbmzqa/qrcode/IN_AAH_RJ_00355/measure...   \n",
       "2  /mnt/cgminbmzqa/qrcode/IN_AAH_RJ_00355/measure...   \n",
       "3  /mnt/cgminbmzqa/qrcode/IN_AAH_RJ_00355/measure...   \n",
       "4  /mnt/cgminbmzqa/qrcode/IN_AAH_RJ_00355/measure...   \n",
       "\n",
       "                                            rgb_file  age  \\\n",
       "0  /mnt/cgminbmzqa/qrcode/IN_AAH_RJ_00355/measure...  650   \n",
       "1  /mnt/cgminbmzqa/qrcode/IN_AAH_RJ_00355/measure...  650   \n",
       "2  /mnt/cgminbmzqa/qrcode/IN_AAH_RJ_00355/measure...  650   \n",
       "3  /mnt/cgminbmzqa/qrcode/IN_AAH_RJ_00355/measure...  650   \n",
       "4  /mnt/cgminbmzqa/qrcode/IN_AAH_RJ_00355/measure...  650   \n",
       "\n",
       "                                     model_id      error  score  \\\n",
       "0                20190708-0919_2379-595height   7.760607    0.0   \n",
       "1                  20190806-1551_220-55height   5.824747    0.0   \n",
       "2                            GAPNet_height_s1   8.708862    0.0   \n",
       "3         q3-cnndepthmap-resnet-height_run_13  11.006977    0.0   \n",
       "4  q3-depthmap-plaincnn-height-100-95k_run_03   9.864527    0.0   \n",
       "\n",
       "   json_value_pose_1_nose_score  json_value_pose_1_leftAnkle_score  \\\n",
       "0                           NaN                                NaN   \n",
       "1                           NaN                                NaN   \n",
       "2                           NaN                                NaN   \n",
       "3                           NaN                                NaN   \n",
       "4                           NaN                                NaN   \n",
       "\n",
       "   json_value_pose_1_leftEar_score  json_value_pose_1_leftElbow_score  \\\n",
       "0                              NaN                                NaN   \n",
       "1                              NaN                                NaN   \n",
       "2                              NaN                                NaN   \n",
       "3                              NaN                                NaN   \n",
       "4                              NaN                                NaN   \n",
       "\n",
       "                  ...                  json_value_pose_1_leftShoulder_score  \\\n",
       "0                 ...                                                   NaN   \n",
       "1                 ...                                                   NaN   \n",
       "2                 ...                                                   NaN   \n",
       "3                 ...                                                   NaN   \n",
       "4                 ...                                                   NaN   \n",
       "\n",
       "   json_value_pose_1_leftWrist_score  json_value_pose_1_rightAnkle_score  \\\n",
       "0                                NaN                                 NaN   \n",
       "1                                NaN                                 NaN   \n",
       "2                                NaN                                 NaN   \n",
       "3                                NaN                                 NaN   \n",
       "4                                NaN                                 NaN   \n",
       "\n",
       "   json_value_pose_1_rightEar_score  json_value_pose_1_rightElbow_score  \\\n",
       "0                               NaN                                 NaN   \n",
       "1                               NaN                                 NaN   \n",
       "2                               NaN                                 NaN   \n",
       "3                               NaN                                 NaN   \n",
       "4                               NaN                                 NaN   \n",
       "\n",
       "   json_value_pose_1_rightEye_score  json_value_pose_1_rightHip_score  \\\n",
       "0                               NaN                               NaN   \n",
       "1                               NaN                               NaN   \n",
       "2                               NaN                               NaN   \n",
       "3                               NaN                               NaN   \n",
       "4                               NaN                               NaN   \n",
       "\n",
       "   json_value_pose_1_rightKnee_score  json_value_pose_1_rightShoulder_score  \\\n",
       "0                                NaN                                    NaN   \n",
       "1                                NaN                                    NaN   \n",
       "2                                NaN                                    NaN   \n",
       "3                                NaN                                    NaN   \n",
       "4                                NaN                                    NaN   \n",
       "\n",
       "   json_value_pose_1_rightWrist_score  \n",
       "0                                 NaN  \n",
       "1                                 NaN  \n",
       "2                                 NaN  \n",
       "3                                 NaN  \n",
       "4                                 NaN  \n",
       "\n",
       "[5 rows x 23 columns]"
      ]
     },
     "execution_count": 40,
     "metadata": {},
     "output_type": "execute_result"
    }
   ],
   "source": [
    "artifacts.head()"
   ]
  },
  {
   "cell_type": "markdown",
   "metadata": {},
   "source": [
    "#### Data cleaning"
   ]
  },
  {
   "cell_type": "markdown",
   "metadata": {},
   "source": [
    " Remove the age at 0 and age above 5 years(i.e 1825 days)"
   ]
  },
  {
   "cell_type": "code",
   "execution_count": 41,
   "metadata": {},
   "outputs": [],
   "source": [
    "artifacts = artifacts[artifacts['age'] <= 1825]\n",
    "artifacts = artifacts[artifacts['age'] > 0]\n",
    "artifacts = artifacts.fillna(0)"
   ]
  },
  {
   "cell_type": "markdown",
   "metadata": {},
   "source": [
    "Plot count of artifacts with age\n"
   ]
  },
  {
   "cell_type": "code",
   "execution_count": 42,
   "metadata": {},
   "outputs": [
    {
     "data": {
      "application/vnd.plotly.v1+json": {
       "config": {
        "linkText": "Export to plot.ly",
        "plotlyServerURL": "https://plot.ly",
        "showLink": true
       },
       "data": [
        {
         "histfunc": "count",
         "histnorm": "",
         "marker": {
          "color": "rgba(255, 153, 51, 1.0)",
          "line": {
           "color": "#4D5663",
           "width": 1.3
          }
         },
         "name": "age",
         "opacity": 0.8,
         "orientation": "v",
         "type": "histogram",
         "x": [
          650,
          650,
          650,
          650,
          650,
          650,
          650,
          650,
          650,
          650,
          648,
          648,
          648,
          648,
          648,
          648,
          648,
          648,
          648,
          648,
          619,
          619,
          619,
          619,
          619,
          619,
          619,
          619,
          619,
          984,
          984,
          984,
          1183,
          1183,
          1183,
          1183,
          1183,
          1183,
          1183,
          1183,
          1183,
          1183,
          1567,
          1567,
          1567,
          1567,
          1567,
          1567,
          1567,
          1567,
          1567,
          1567,
          984,
          984,
          984,
          1409,
          1409,
          1409,
          1409,
          1409,
          1409,
          1409,
          1409,
          1409,
          1409,
          968,
          968,
          968,
          968,
          968,
          968,
          968,
          968,
          968,
          968,
          1382,
          1382,
          1382,
          1382,
          1382,
          1382,
          1382,
          1382,
          1382,
          1382,
          382,
          382,
          326,
          326,
          326,
          783,
          783,
          783,
          1089,
          1089,
          1089,
          1089,
          1089,
          1089,
          1089,
          1089,
          1089,
          1089,
          1516,
          1516,
          1516,
          1516,
          1516,
          1516,
          1516,
          1516,
          1516,
          1516,
          1089,
          1089,
          1089,
          1089,
          1089,
          1089,
          1089,
          1089,
          1089,
          1089,
          972,
          972,
          972,
          972,
          972,
          972,
          972,
          972,
          972,
          972,
          984,
          984,
          984,
          794,
          794,
          794,
          794,
          794,
          794,
          794,
          794,
          794,
          794,
          1183,
          1183,
          1183,
          1183,
          1183,
          1183,
          1183,
          1183,
          1183,
          1183,
          1275,
          1275,
          1275,
          1275,
          1275,
          1275,
          1275,
          1275,
          1275,
          1275,
          1662,
          1662,
          1662,
          1662,
          1662,
          1662,
          1662,
          1662,
          1662,
          1662,
          1044,
          1044,
          1044,
          1044,
          1044,
          1044,
          1044,
          1044,
          1044,
          1044,
          1495,
          1495,
          1495,
          1495,
          1495,
          1495,
          1495,
          1495,
          1495,
          1495,
          1502,
          1502,
          1502,
          1502,
          1502,
          1502,
          1502,
          1502,
          1502,
          1502,
          1045,
          1045,
          1045,
          1045,
          1045,
          1045,
          1045,
          1045,
          1045,
          1045,
          648,
          648,
          648,
          648,
          648,
          648,
          648,
          648,
          648,
          648,
          984,
          984,
          984,
          487,
          487,
          487,
          1037,
          1037,
          1037,
          1037,
          1037,
          1037,
          1037,
          1037,
          1037,
          1037,
          657,
          657,
          657,
          1450,
          1450,
          1450,
          490,
          490,
          490,
          490,
          490,
          490,
          490,
          490,
          490,
          490,
          945,
          945,
          945,
          945,
          945,
          945,
          945,
          945,
          945,
          945,
          630,
          630,
          630,
          630,
          630,
          630,
          630,
          630,
          630,
          630,
          491,
          491,
          491,
          785,
          785,
          785,
          785,
          785,
          785,
          785,
          785,
          785,
          785,
          1246,
          1246,
          1246,
          1246,
          1246,
          1246,
          1246,
          1246,
          1246,
          1246,
          1384,
          1384,
          1384,
          1384,
          1384,
          1384,
          1384,
          1384,
          1384,
          1384,
          673,
          673,
          673,
          673,
          673,
          673,
          673,
          673,
          673,
          673,
          606,
          606,
          606,
          1495,
          1495,
          1495,
          1495,
          1495,
          1495,
          1495,
          1495,
          1495,
          1495,
          1495,
          1495,
          1495,
          1495,
          1495,
          1495,
          1495,
          1495,
          1495,
          1495,
          1089,
          1089,
          1089,
          1089,
          1089,
          1089,
          1089,
          1089,
          1089,
          1089,
          1089,
          1089,
          1089,
          1089,
          1089,
          1089,
          1089,
          1089,
          1089,
          1089,
          771,
          771,
          771,
          771,
          771,
          771,
          771,
          771,
          771,
          771,
          1045,
          1045,
          1045,
          1045,
          1045,
          1045,
          1045,
          1045,
          1045,
          1045,
          1089,
          1089,
          1089,
          1089,
          1089,
          1089,
          1089,
          1089,
          1089,
          1089,
          783,
          783,
          783,
          972,
          972,
          972,
          972,
          972,
          972,
          972,
          972,
          972,
          972,
          1229,
          1229,
          1229,
          1229,
          1229,
          1229,
          1229,
          1229,
          1229,
          1229,
          326,
          326,
          326,
          771,
          771,
          771,
          771,
          771,
          771,
          771,
          771,
          771,
          771,
          968,
          968,
          968,
          968,
          968,
          968,
          968,
          968,
          968,
          968,
          558,
          558,
          558,
          558,
          558,
          558,
          558,
          558,
          558,
          558,
          736,
          736,
          736,
          736,
          736,
          736,
          736,
          736,
          736,
          736,
          747,
          747,
          747,
          747,
          984,
          984,
          984,
          1336,
          1336,
          1336,
          1336,
          1336,
          1336,
          1336,
          1336,
          1336,
          1336,
          1786,
          1786,
          1786,
          1786,
          1786,
          1786,
          1786,
          1786,
          1786,
          1786,
          747,
          747,
          747,
          747,
          1801,
          1801,
          1801,
          1801,
          1801,
          1801,
          1801,
          1801,
          1801,
          1801,
          1384,
          1384,
          1384,
          1384,
          1384,
          1384,
          1384,
          1384,
          1384,
          1384,
          1675,
          1675,
          1675,
          1675,
          1675,
          1675,
          1675,
          1675,
          1675,
          1675,
          326,
          326,
          326,
          1801,
          1801,
          1801,
          1801,
          1801,
          1801,
          1801,
          1801,
          1801,
          1801,
          991,
          991,
          991,
          991,
          991,
          991,
          991,
          991,
          991,
          991,
          487,
          487,
          487,
          1567,
          1567,
          1567,
          1567,
          1567,
          1567,
          1567,
          1567,
          1567,
          1567,
          1037,
          1037,
          1037,
          1037,
          1037,
          1037,
          1037,
          1037,
          1037,
          1037,
          385,
          385,
          385,
          371,
          371,
          1495,
          1495,
          1495,
          1495,
          1495,
          1495,
          1495,
          1495,
          1495,
          1495,
          1495,
          1495,
          1495,
          1495,
          1495,
          1495,
          1495,
          1495,
          1495,
          1495,
          1495,
          1495,
          1495,
          1495,
          1495,
          1495,
          1495,
          1495,
          1495,
          1495,
          1409,
          1409,
          1409,
          1409,
          1409,
          1409,
          1409,
          1409,
          1409,
          1409,
          371,
          371,
          382,
          382,
          771,
          771,
          771,
          771,
          771,
          771,
          771,
          771,
          771,
          771,
          1037,
          1037,
          1037,
          1037,
          1037,
          1037,
          1037,
          1037,
          1037,
          1037,
          984,
          984,
          984,
          1516,
          1516,
          1516,
          1516,
          1516,
          1516,
          1516,
          1516,
          1516,
          1516,
          1391,
          1391,
          1391,
          1391,
          1391,
          1391,
          1391,
          1391,
          1391,
          1391,
          1693,
          1693,
          1693,
          1693,
          1693,
          1693,
          1693,
          1693,
          1693,
          1693,
          736,
          736,
          736,
          736,
          736,
          736,
          736,
          736,
          736,
          736,
          487,
          487,
          487,
          1336,
          1336,
          1336,
          1336,
          1336,
          1336,
          1336,
          1336,
          1336,
          1336,
          619,
          619,
          619,
          619,
          619,
          619,
          619,
          619,
          619,
          1502,
          1502,
          1502,
          1502,
          1502,
          1502,
          1502,
          1502,
          1502,
          1502,
          764,
          764,
          764,
          764,
          764,
          764,
          764,
          764,
          764,
          764,
          764,
          764,
          764,
          764,
          764,
          764,
          764,
          764,
          764,
          764,
          1390,
          1390,
          1390,
          1390,
          1390,
          1390,
          1390,
          1390,
          1390,
          1390,
          1675,
          1675,
          1675,
          1675,
          1675,
          1675,
          1675,
          1675,
          1675,
          1675,
          904,
          904,
          904,
          904,
          904,
          904,
          904,
          904,
          904,
          904,
          1284,
          1284,
          1284,
          1284,
          1284,
          1284,
          1284,
          1284,
          1284,
          1284,
          382,
          382,
          1352,
          1352,
          1352,
          1352,
          1246,
          1246,
          1246,
          1246,
          1246,
          1246,
          1246,
          1246,
          1246,
          1246,
          362,
          362,
          362,
          882,
          882,
          882,
          882,
          882,
          882,
          882,
          882,
          882,
          882,
          1045,
          1045,
          1045,
          1045,
          1045,
          1045,
          1045,
          1045,
          1045,
          1045,
          1239,
          1239,
          1239,
          1239,
          1239,
          1239,
          1239,
          1239,
          1239,
          1239,
          558,
          558,
          558,
          558,
          558,
          558,
          558,
          558,
          558,
          558,
          1089,
          1089,
          1089,
          1089,
          1089,
          1089,
          1089,
          1089,
          1089,
          1089,
          972,
          972,
          972,
          972,
          972,
          972,
          972,
          972,
          972,
          972,
          619,
          619,
          619,
          619,
          619,
          619,
          619,
          619,
          619,
          657,
          657,
          657,
          1352,
          1352,
          1352,
          1352,
          649,
          649,
          649,
          649,
          649,
          649,
          649,
          649,
          649,
          649,
          1693,
          1693,
          1693,
          1693,
          1693,
          1693,
          1693,
          1693,
          1693,
          1693
         ]
        }
       ],
       "layout": {
        "barmode": "overlay",
        "legend": {
         "bgcolor": "#F5F6F9",
         "font": {
          "color": "#4D5663"
         }
        },
        "paper_bgcolor": "#F5F6F9",
        "plot_bgcolor": "#F5F6F9",
        "template": {
         "data": {
          "bar": [
           {
            "error_x": {
             "color": "#2a3f5f"
            },
            "error_y": {
             "color": "#2a3f5f"
            },
            "marker": {
             "line": {
              "color": "#E5ECF6",
              "width": 0.5
             }
            },
            "type": "bar"
           }
          ],
          "barpolar": [
           {
            "marker": {
             "line": {
              "color": "#E5ECF6",
              "width": 0.5
             }
            },
            "type": "barpolar"
           }
          ],
          "carpet": [
           {
            "aaxis": {
             "endlinecolor": "#2a3f5f",
             "gridcolor": "white",
             "linecolor": "white",
             "minorgridcolor": "white",
             "startlinecolor": "#2a3f5f"
            },
            "baxis": {
             "endlinecolor": "#2a3f5f",
             "gridcolor": "white",
             "linecolor": "white",
             "minorgridcolor": "white",
             "startlinecolor": "#2a3f5f"
            },
            "type": "carpet"
           }
          ],
          "choropleth": [
           {
            "colorbar": {
             "outlinewidth": 0,
             "ticks": ""
            },
            "type": "choropleth"
           }
          ],
          "contour": [
           {
            "colorbar": {
             "outlinewidth": 0,
             "ticks": ""
            },
            "colorscale": [
             [
              0,
              "#0d0887"
             ],
             [
              0.1111111111111111,
              "#46039f"
             ],
             [
              0.2222222222222222,
              "#7201a8"
             ],
             [
              0.3333333333333333,
              "#9c179e"
             ],
             [
              0.4444444444444444,
              "#bd3786"
             ],
             [
              0.5555555555555556,
              "#d8576b"
             ],
             [
              0.6666666666666666,
              "#ed7953"
             ],
             [
              0.7777777777777778,
              "#fb9f3a"
             ],
             [
              0.8888888888888888,
              "#fdca26"
             ],
             [
              1,
              "#f0f921"
             ]
            ],
            "type": "contour"
           }
          ],
          "contourcarpet": [
           {
            "colorbar": {
             "outlinewidth": 0,
             "ticks": ""
            },
            "type": "contourcarpet"
           }
          ],
          "heatmap": [
           {
            "colorbar": {
             "outlinewidth": 0,
             "ticks": ""
            },
            "colorscale": [
             [
              0,
              "#0d0887"
             ],
             [
              0.1111111111111111,
              "#46039f"
             ],
             [
              0.2222222222222222,
              "#7201a8"
             ],
             [
              0.3333333333333333,
              "#9c179e"
             ],
             [
              0.4444444444444444,
              "#bd3786"
             ],
             [
              0.5555555555555556,
              "#d8576b"
             ],
             [
              0.6666666666666666,
              "#ed7953"
             ],
             [
              0.7777777777777778,
              "#fb9f3a"
             ],
             [
              0.8888888888888888,
              "#fdca26"
             ],
             [
              1,
              "#f0f921"
             ]
            ],
            "type": "heatmap"
           }
          ],
          "heatmapgl": [
           {
            "colorbar": {
             "outlinewidth": 0,
             "ticks": ""
            },
            "colorscale": [
             [
              0,
              "#0d0887"
             ],
             [
              0.1111111111111111,
              "#46039f"
             ],
             [
              0.2222222222222222,
              "#7201a8"
             ],
             [
              0.3333333333333333,
              "#9c179e"
             ],
             [
              0.4444444444444444,
              "#bd3786"
             ],
             [
              0.5555555555555556,
              "#d8576b"
             ],
             [
              0.6666666666666666,
              "#ed7953"
             ],
             [
              0.7777777777777778,
              "#fb9f3a"
             ],
             [
              0.8888888888888888,
              "#fdca26"
             ],
             [
              1,
              "#f0f921"
             ]
            ],
            "type": "heatmapgl"
           }
          ],
          "histogram": [
           {
            "marker": {
             "colorbar": {
              "outlinewidth": 0,
              "ticks": ""
             }
            },
            "type": "histogram"
           }
          ],
          "histogram2d": [
           {
            "colorbar": {
             "outlinewidth": 0,
             "ticks": ""
            },
            "colorscale": [
             [
              0,
              "#0d0887"
             ],
             [
              0.1111111111111111,
              "#46039f"
             ],
             [
              0.2222222222222222,
              "#7201a8"
             ],
             [
              0.3333333333333333,
              "#9c179e"
             ],
             [
              0.4444444444444444,
              "#bd3786"
             ],
             [
              0.5555555555555556,
              "#d8576b"
             ],
             [
              0.6666666666666666,
              "#ed7953"
             ],
             [
              0.7777777777777778,
              "#fb9f3a"
             ],
             [
              0.8888888888888888,
              "#fdca26"
             ],
             [
              1,
              "#f0f921"
             ]
            ],
            "type": "histogram2d"
           }
          ],
          "histogram2dcontour": [
           {
            "colorbar": {
             "outlinewidth": 0,
             "ticks": ""
            },
            "colorscale": [
             [
              0,
              "#0d0887"
             ],
             [
              0.1111111111111111,
              "#46039f"
             ],
             [
              0.2222222222222222,
              "#7201a8"
             ],
             [
              0.3333333333333333,
              "#9c179e"
             ],
             [
              0.4444444444444444,
              "#bd3786"
             ],
             [
              0.5555555555555556,
              "#d8576b"
             ],
             [
              0.6666666666666666,
              "#ed7953"
             ],
             [
              0.7777777777777778,
              "#fb9f3a"
             ],
             [
              0.8888888888888888,
              "#fdca26"
             ],
             [
              1,
              "#f0f921"
             ]
            ],
            "type": "histogram2dcontour"
           }
          ],
          "mesh3d": [
           {
            "colorbar": {
             "outlinewidth": 0,
             "ticks": ""
            },
            "type": "mesh3d"
           }
          ],
          "parcoords": [
           {
            "line": {
             "colorbar": {
              "outlinewidth": 0,
              "ticks": ""
             }
            },
            "type": "parcoords"
           }
          ],
          "pie": [
           {
            "automargin": true,
            "type": "pie"
           }
          ],
          "scatter": [
           {
            "marker": {
             "colorbar": {
              "outlinewidth": 0,
              "ticks": ""
             }
            },
            "type": "scatter"
           }
          ],
          "scatter3d": [
           {
            "line": {
             "colorbar": {
              "outlinewidth": 0,
              "ticks": ""
             }
            },
            "marker": {
             "colorbar": {
              "outlinewidth": 0,
              "ticks": ""
             }
            },
            "type": "scatter3d"
           }
          ],
          "scattercarpet": [
           {
            "marker": {
             "colorbar": {
              "outlinewidth": 0,
              "ticks": ""
             }
            },
            "type": "scattercarpet"
           }
          ],
          "scattergeo": [
           {
            "marker": {
             "colorbar": {
              "outlinewidth": 0,
              "ticks": ""
             }
            },
            "type": "scattergeo"
           }
          ],
          "scattergl": [
           {
            "marker": {
             "colorbar": {
              "outlinewidth": 0,
              "ticks": ""
             }
            },
            "type": "scattergl"
           }
          ],
          "scattermapbox": [
           {
            "marker": {
             "colorbar": {
              "outlinewidth": 0,
              "ticks": ""
             }
            },
            "type": "scattermapbox"
           }
          ],
          "scatterpolar": [
           {
            "marker": {
             "colorbar": {
              "outlinewidth": 0,
              "ticks": ""
             }
            },
            "type": "scatterpolar"
           }
          ],
          "scatterpolargl": [
           {
            "marker": {
             "colorbar": {
              "outlinewidth": 0,
              "ticks": ""
             }
            },
            "type": "scatterpolargl"
           }
          ],
          "scatterternary": [
           {
            "marker": {
             "colorbar": {
              "outlinewidth": 0,
              "ticks": ""
             }
            },
            "type": "scatterternary"
           }
          ],
          "surface": [
           {
            "colorbar": {
             "outlinewidth": 0,
             "ticks": ""
            },
            "colorscale": [
             [
              0,
              "#0d0887"
             ],
             [
              0.1111111111111111,
              "#46039f"
             ],
             [
              0.2222222222222222,
              "#7201a8"
             ],
             [
              0.3333333333333333,
              "#9c179e"
             ],
             [
              0.4444444444444444,
              "#bd3786"
             ],
             [
              0.5555555555555556,
              "#d8576b"
             ],
             [
              0.6666666666666666,
              "#ed7953"
             ],
             [
              0.7777777777777778,
              "#fb9f3a"
             ],
             [
              0.8888888888888888,
              "#fdca26"
             ],
             [
              1,
              "#f0f921"
             ]
            ],
            "type": "surface"
           }
          ],
          "table": [
           {
            "cells": {
             "fill": {
              "color": "#EBF0F8"
             },
             "line": {
              "color": "white"
             }
            },
            "header": {
             "fill": {
              "color": "#C8D4E3"
             },
             "line": {
              "color": "white"
             }
            },
            "type": "table"
           }
          ]
         },
         "layout": {
          "annotationdefaults": {
           "arrowcolor": "#2a3f5f",
           "arrowhead": 0,
           "arrowwidth": 1
          },
          "coloraxis": {
           "colorbar": {
            "outlinewidth": 0,
            "ticks": ""
           }
          },
          "colorscale": {
           "diverging": [
            [
             0,
             "#8e0152"
            ],
            [
             0.1,
             "#c51b7d"
            ],
            [
             0.2,
             "#de77ae"
            ],
            [
             0.3,
             "#f1b6da"
            ],
            [
             0.4,
             "#fde0ef"
            ],
            [
             0.5,
             "#f7f7f7"
            ],
            [
             0.6,
             "#e6f5d0"
            ],
            [
             0.7,
             "#b8e186"
            ],
            [
             0.8,
             "#7fbc41"
            ],
            [
             0.9,
             "#4d9221"
            ],
            [
             1,
             "#276419"
            ]
           ],
           "sequential": [
            [
             0,
             "#0d0887"
            ],
            [
             0.1111111111111111,
             "#46039f"
            ],
            [
             0.2222222222222222,
             "#7201a8"
            ],
            [
             0.3333333333333333,
             "#9c179e"
            ],
            [
             0.4444444444444444,
             "#bd3786"
            ],
            [
             0.5555555555555556,
             "#d8576b"
            ],
            [
             0.6666666666666666,
             "#ed7953"
            ],
            [
             0.7777777777777778,
             "#fb9f3a"
            ],
            [
             0.8888888888888888,
             "#fdca26"
            ],
            [
             1,
             "#f0f921"
            ]
           ],
           "sequentialminus": [
            [
             0,
             "#0d0887"
            ],
            [
             0.1111111111111111,
             "#46039f"
            ],
            [
             0.2222222222222222,
             "#7201a8"
            ],
            [
             0.3333333333333333,
             "#9c179e"
            ],
            [
             0.4444444444444444,
             "#bd3786"
            ],
            [
             0.5555555555555556,
             "#d8576b"
            ],
            [
             0.6666666666666666,
             "#ed7953"
            ],
            [
             0.7777777777777778,
             "#fb9f3a"
            ],
            [
             0.8888888888888888,
             "#fdca26"
            ],
            [
             1,
             "#f0f921"
            ]
           ]
          },
          "colorway": [
           "#636efa",
           "#EF553B",
           "#00cc96",
           "#ab63fa",
           "#FFA15A",
           "#19d3f3",
           "#FF6692",
           "#B6E880",
           "#FF97FF",
           "#FECB52"
          ],
          "font": {
           "color": "#2a3f5f"
          },
          "geo": {
           "bgcolor": "white",
           "lakecolor": "white",
           "landcolor": "#E5ECF6",
           "showlakes": true,
           "showland": true,
           "subunitcolor": "white"
          },
          "hoverlabel": {
           "align": "left"
          },
          "hovermode": "closest",
          "mapbox": {
           "style": "light"
          },
          "paper_bgcolor": "white",
          "plot_bgcolor": "#E5ECF6",
          "polar": {
           "angularaxis": {
            "gridcolor": "white",
            "linecolor": "white",
            "ticks": ""
           },
           "bgcolor": "#E5ECF6",
           "radialaxis": {
            "gridcolor": "white",
            "linecolor": "white",
            "ticks": ""
           }
          },
          "scene": {
           "xaxis": {
            "backgroundcolor": "#E5ECF6",
            "gridcolor": "white",
            "gridwidth": 2,
            "linecolor": "white",
            "showbackground": true,
            "ticks": "",
            "zerolinecolor": "white"
           },
           "yaxis": {
            "backgroundcolor": "#E5ECF6",
            "gridcolor": "white",
            "gridwidth": 2,
            "linecolor": "white",
            "showbackground": true,
            "ticks": "",
            "zerolinecolor": "white"
           },
           "zaxis": {
            "backgroundcolor": "#E5ECF6",
            "gridcolor": "white",
            "gridwidth": 2,
            "linecolor": "white",
            "showbackground": true,
            "ticks": "",
            "zerolinecolor": "white"
           }
          },
          "shapedefaults": {
           "line": {
            "color": "#2a3f5f"
           }
          },
          "ternary": {
           "aaxis": {
            "gridcolor": "white",
            "linecolor": "white",
            "ticks": ""
           },
           "baxis": {
            "gridcolor": "white",
            "linecolor": "white",
            "ticks": ""
           },
           "bgcolor": "#E5ECF6",
           "caxis": {
            "gridcolor": "white",
            "linecolor": "white",
            "ticks": ""
           }
          },
          "title": {
           "x": 0.05
          },
          "xaxis": {
           "automargin": true,
           "gridcolor": "white",
           "linecolor": "white",
           "ticks": "",
           "title": {
            "standoff": 15
           },
           "zerolinecolor": "white",
           "zerolinewidth": 2
          },
          "yaxis": {
           "automargin": true,
           "gridcolor": "white",
           "linecolor": "white",
           "ticks": "",
           "title": {
            "standoff": 15
           },
           "zerolinecolor": "white",
           "zerolinewidth": 2
          }
         }
        },
        "title": {
         "font": {
          "color": "#4D5663"
         },
         "text": "Age Distribution"
        },
        "xaxis": {
         "gridcolor": "#E1E5ED",
         "showgrid": true,
         "tickfont": {
          "color": "#4D5663"
         },
         "title": {
          "font": {
           "color": "#4D5663"
          },
          "text": "Age"
         },
         "zerolinecolor": "#E1E5ED"
        },
        "yaxis": {
         "gridcolor": "#E1E5ED",
         "showgrid": true,
         "tickfont": {
          "color": "#4D5663"
         },
         "title": {
          "font": {
           "color": "#4D5663"
          },
          "text": "count"
         },
         "zerolinecolor": "#E1E5ED"
        }
       }
      },
      "text/html": [
       "<div>\n",
       "        \n",
       "        \n",
       "            <div id=\"99b619c1-d68e-4afc-8c0b-8d11ff64edea\" class=\"plotly-graph-div\" style=\"height:525px; width:100%;\"></div>\n",
       "            <script type=\"text/javascript\">\n",
       "                require([\"plotly\"], function(Plotly) {\n",
       "                    window.PLOTLYENV=window.PLOTLYENV || {};\n",
       "                    window.PLOTLYENV.BASE_URL='https://plot.ly';\n",
       "                    \n",
       "                if (document.getElementById(\"99b619c1-d68e-4afc-8c0b-8d11ff64edea\")) {\n",
       "                    Plotly.newPlot(\n",
       "                        '99b619c1-d68e-4afc-8c0b-8d11ff64edea',\n",
       "                        [{\"histfunc\": \"count\", \"histnorm\": \"\", \"marker\": {\"color\": \"rgba(255, 153, 51, 1.0)\", \"line\": {\"color\": \"#4D5663\", \"width\": 1.3}}, \"name\": \"age\", \"opacity\": 0.8, \"orientation\": \"v\", \"type\": \"histogram\", \"x\": [650, 650, 650, 650, 650, 650, 650, 650, 650, 650, 648, 648, 648, 648, 648, 648, 648, 648, 648, 648, 619, 619, 619, 619, 619, 619, 619, 619, 619, 984, 984, 984, 1183, 1183, 1183, 1183, 1183, 1183, 1183, 1183, 1183, 1183, 1567, 1567, 1567, 1567, 1567, 1567, 1567, 1567, 1567, 1567, 984, 984, 984, 1409, 1409, 1409, 1409, 1409, 1409, 1409, 1409, 1409, 1409, 968, 968, 968, 968, 968, 968, 968, 968, 968, 968, 1382, 1382, 1382, 1382, 1382, 1382, 1382, 1382, 1382, 1382, 382, 382, 326, 326, 326, 783, 783, 783, 1089, 1089, 1089, 1089, 1089, 1089, 1089, 1089, 1089, 1089, 1516, 1516, 1516, 1516, 1516, 1516, 1516, 1516, 1516, 1516, 1089, 1089, 1089, 1089, 1089, 1089, 1089, 1089, 1089, 1089, 972, 972, 972, 972, 972, 972, 972, 972, 972, 972, 984, 984, 984, 794, 794, 794, 794, 794, 794, 794, 794, 794, 794, 1183, 1183, 1183, 1183, 1183, 1183, 1183, 1183, 1183, 1183, 1275, 1275, 1275, 1275, 1275, 1275, 1275, 1275, 1275, 1275, 1662, 1662, 1662, 1662, 1662, 1662, 1662, 1662, 1662, 1662, 1044, 1044, 1044, 1044, 1044, 1044, 1044, 1044, 1044, 1044, 1495, 1495, 1495, 1495, 1495, 1495, 1495, 1495, 1495, 1495, 1502, 1502, 1502, 1502, 1502, 1502, 1502, 1502, 1502, 1502, 1045, 1045, 1045, 1045, 1045, 1045, 1045, 1045, 1045, 1045, 648, 648, 648, 648, 648, 648, 648, 648, 648, 648, 984, 984, 984, 487, 487, 487, 1037, 1037, 1037, 1037, 1037, 1037, 1037, 1037, 1037, 1037, 657, 657, 657, 1450, 1450, 1450, 490, 490, 490, 490, 490, 490, 490, 490, 490, 490, 945, 945, 945, 945, 945, 945, 945, 945, 945, 945, 630, 630, 630, 630, 630, 630, 630, 630, 630, 630, 491, 491, 491, 785, 785, 785, 785, 785, 785, 785, 785, 785, 785, 1246, 1246, 1246, 1246, 1246, 1246, 1246, 1246, 1246, 1246, 1384, 1384, 1384, 1384, 1384, 1384, 1384, 1384, 1384, 1384, 673, 673, 673, 673, 673, 673, 673, 673, 673, 673, 606, 606, 606, 1495, 1495, 1495, 1495, 1495, 1495, 1495, 1495, 1495, 1495, 1495, 1495, 1495, 1495, 1495, 1495, 1495, 1495, 1495, 1495, 1089, 1089, 1089, 1089, 1089, 1089, 1089, 1089, 1089, 1089, 1089, 1089, 1089, 1089, 1089, 1089, 1089, 1089, 1089, 1089, 771, 771, 771, 771, 771, 771, 771, 771, 771, 771, 1045, 1045, 1045, 1045, 1045, 1045, 1045, 1045, 1045, 1045, 1089, 1089, 1089, 1089, 1089, 1089, 1089, 1089, 1089, 1089, 783, 783, 783, 972, 972, 972, 972, 972, 972, 972, 972, 972, 972, 1229, 1229, 1229, 1229, 1229, 1229, 1229, 1229, 1229, 1229, 326, 326, 326, 771, 771, 771, 771, 771, 771, 771, 771, 771, 771, 968, 968, 968, 968, 968, 968, 968, 968, 968, 968, 558, 558, 558, 558, 558, 558, 558, 558, 558, 558, 736, 736, 736, 736, 736, 736, 736, 736, 736, 736, 747, 747, 747, 747, 984, 984, 984, 1336, 1336, 1336, 1336, 1336, 1336, 1336, 1336, 1336, 1336, 1786, 1786, 1786, 1786, 1786, 1786, 1786, 1786, 1786, 1786, 747, 747, 747, 747, 1801, 1801, 1801, 1801, 1801, 1801, 1801, 1801, 1801, 1801, 1384, 1384, 1384, 1384, 1384, 1384, 1384, 1384, 1384, 1384, 1675, 1675, 1675, 1675, 1675, 1675, 1675, 1675, 1675, 1675, 326, 326, 326, 1801, 1801, 1801, 1801, 1801, 1801, 1801, 1801, 1801, 1801, 991, 991, 991, 991, 991, 991, 991, 991, 991, 991, 487, 487, 487, 1567, 1567, 1567, 1567, 1567, 1567, 1567, 1567, 1567, 1567, 1037, 1037, 1037, 1037, 1037, 1037, 1037, 1037, 1037, 1037, 385, 385, 385, 371, 371, 1495, 1495, 1495, 1495, 1495, 1495, 1495, 1495, 1495, 1495, 1495, 1495, 1495, 1495, 1495, 1495, 1495, 1495, 1495, 1495, 1495, 1495, 1495, 1495, 1495, 1495, 1495, 1495, 1495, 1495, 1409, 1409, 1409, 1409, 1409, 1409, 1409, 1409, 1409, 1409, 371, 371, 382, 382, 771, 771, 771, 771, 771, 771, 771, 771, 771, 771, 1037, 1037, 1037, 1037, 1037, 1037, 1037, 1037, 1037, 1037, 984, 984, 984, 1516, 1516, 1516, 1516, 1516, 1516, 1516, 1516, 1516, 1516, 1391, 1391, 1391, 1391, 1391, 1391, 1391, 1391, 1391, 1391, 1693, 1693, 1693, 1693, 1693, 1693, 1693, 1693, 1693, 1693, 736, 736, 736, 736, 736, 736, 736, 736, 736, 736, 487, 487, 487, 1336, 1336, 1336, 1336, 1336, 1336, 1336, 1336, 1336, 1336, 619, 619, 619, 619, 619, 619, 619, 619, 619, 1502, 1502, 1502, 1502, 1502, 1502, 1502, 1502, 1502, 1502, 764, 764, 764, 764, 764, 764, 764, 764, 764, 764, 764, 764, 764, 764, 764, 764, 764, 764, 764, 764, 1390, 1390, 1390, 1390, 1390, 1390, 1390, 1390, 1390, 1390, 1675, 1675, 1675, 1675, 1675, 1675, 1675, 1675, 1675, 1675, 904, 904, 904, 904, 904, 904, 904, 904, 904, 904, 1284, 1284, 1284, 1284, 1284, 1284, 1284, 1284, 1284, 1284, 382, 382, 1352, 1352, 1352, 1352, 1246, 1246, 1246, 1246, 1246, 1246, 1246, 1246, 1246, 1246, 362, 362, 362, 882, 882, 882, 882, 882, 882, 882, 882, 882, 882, 1045, 1045, 1045, 1045, 1045, 1045, 1045, 1045, 1045, 1045, 1239, 1239, 1239, 1239, 1239, 1239, 1239, 1239, 1239, 1239, 558, 558, 558, 558, 558, 558, 558, 558, 558, 558, 1089, 1089, 1089, 1089, 1089, 1089, 1089, 1089, 1089, 1089, 972, 972, 972, 972, 972, 972, 972, 972, 972, 972, 619, 619, 619, 619, 619, 619, 619, 619, 619, 657, 657, 657, 1352, 1352, 1352, 1352, 649, 649, 649, 649, 649, 649, 649, 649, 649, 649, 1693, 1693, 1693, 1693, 1693, 1693, 1693, 1693, 1693, 1693]}],\n",
       "                        {\"barmode\": \"overlay\", \"legend\": {\"bgcolor\": \"#F5F6F9\", \"font\": {\"color\": \"#4D5663\"}}, \"paper_bgcolor\": \"#F5F6F9\", \"plot_bgcolor\": \"#F5F6F9\", \"template\": {\"data\": {\"bar\": [{\"error_x\": {\"color\": \"#2a3f5f\"}, \"error_y\": {\"color\": \"#2a3f5f\"}, \"marker\": {\"line\": {\"color\": \"#E5ECF6\", \"width\": 0.5}}, \"type\": \"bar\"}], \"barpolar\": [{\"marker\": {\"line\": {\"color\": \"#E5ECF6\", \"width\": 0.5}}, \"type\": \"barpolar\"}], \"carpet\": [{\"aaxis\": {\"endlinecolor\": \"#2a3f5f\", \"gridcolor\": \"white\", \"linecolor\": \"white\", \"minorgridcolor\": \"white\", \"startlinecolor\": \"#2a3f5f\"}, \"baxis\": {\"endlinecolor\": \"#2a3f5f\", \"gridcolor\": \"white\", \"linecolor\": \"white\", \"minorgridcolor\": \"white\", \"startlinecolor\": \"#2a3f5f\"}, \"type\": \"carpet\"}], \"choropleth\": [{\"colorbar\": {\"outlinewidth\": 0, \"ticks\": \"\"}, \"type\": \"choropleth\"}], \"contour\": [{\"colorbar\": {\"outlinewidth\": 0, \"ticks\": \"\"}, \"colorscale\": [[0.0, \"#0d0887\"], [0.1111111111111111, \"#46039f\"], [0.2222222222222222, \"#7201a8\"], [0.3333333333333333, \"#9c179e\"], [0.4444444444444444, \"#bd3786\"], [0.5555555555555556, \"#d8576b\"], [0.6666666666666666, \"#ed7953\"], [0.7777777777777778, \"#fb9f3a\"], [0.8888888888888888, \"#fdca26\"], [1.0, \"#f0f921\"]], \"type\": \"contour\"}], \"contourcarpet\": [{\"colorbar\": {\"outlinewidth\": 0, \"ticks\": \"\"}, \"type\": \"contourcarpet\"}], \"heatmap\": [{\"colorbar\": {\"outlinewidth\": 0, \"ticks\": \"\"}, \"colorscale\": [[0.0, \"#0d0887\"], [0.1111111111111111, \"#46039f\"], [0.2222222222222222, \"#7201a8\"], [0.3333333333333333, \"#9c179e\"], [0.4444444444444444, \"#bd3786\"], [0.5555555555555556, \"#d8576b\"], [0.6666666666666666, \"#ed7953\"], [0.7777777777777778, \"#fb9f3a\"], [0.8888888888888888, \"#fdca26\"], [1.0, \"#f0f921\"]], \"type\": \"heatmap\"}], \"heatmapgl\": [{\"colorbar\": {\"outlinewidth\": 0, \"ticks\": \"\"}, \"colorscale\": [[0.0, \"#0d0887\"], [0.1111111111111111, \"#46039f\"], [0.2222222222222222, \"#7201a8\"], [0.3333333333333333, \"#9c179e\"], [0.4444444444444444, \"#bd3786\"], [0.5555555555555556, \"#d8576b\"], [0.6666666666666666, \"#ed7953\"], [0.7777777777777778, \"#fb9f3a\"], [0.8888888888888888, \"#fdca26\"], [1.0, \"#f0f921\"]], \"type\": \"heatmapgl\"}], \"histogram\": [{\"marker\": {\"colorbar\": {\"outlinewidth\": 0, \"ticks\": \"\"}}, \"type\": \"histogram\"}], \"histogram2d\": [{\"colorbar\": {\"outlinewidth\": 0, \"ticks\": \"\"}, \"colorscale\": [[0.0, \"#0d0887\"], [0.1111111111111111, \"#46039f\"], [0.2222222222222222, \"#7201a8\"], [0.3333333333333333, \"#9c179e\"], [0.4444444444444444, \"#bd3786\"], [0.5555555555555556, \"#d8576b\"], [0.6666666666666666, \"#ed7953\"], [0.7777777777777778, \"#fb9f3a\"], [0.8888888888888888, \"#fdca26\"], [1.0, \"#f0f921\"]], \"type\": \"histogram2d\"}], \"histogram2dcontour\": [{\"colorbar\": {\"outlinewidth\": 0, \"ticks\": \"\"}, \"colorscale\": [[0.0, \"#0d0887\"], [0.1111111111111111, \"#46039f\"], [0.2222222222222222, \"#7201a8\"], [0.3333333333333333, \"#9c179e\"], [0.4444444444444444, \"#bd3786\"], [0.5555555555555556, \"#d8576b\"], [0.6666666666666666, \"#ed7953\"], [0.7777777777777778, \"#fb9f3a\"], [0.8888888888888888, \"#fdca26\"], [1.0, \"#f0f921\"]], \"type\": \"histogram2dcontour\"}], \"mesh3d\": [{\"colorbar\": {\"outlinewidth\": 0, \"ticks\": \"\"}, \"type\": \"mesh3d\"}], \"parcoords\": [{\"line\": {\"colorbar\": {\"outlinewidth\": 0, \"ticks\": \"\"}}, \"type\": \"parcoords\"}], \"pie\": [{\"automargin\": true, \"type\": \"pie\"}], \"scatter\": [{\"marker\": {\"colorbar\": {\"outlinewidth\": 0, \"ticks\": \"\"}}, \"type\": \"scatter\"}], \"scatter3d\": [{\"line\": {\"colorbar\": {\"outlinewidth\": 0, \"ticks\": \"\"}}, \"marker\": {\"colorbar\": {\"outlinewidth\": 0, \"ticks\": \"\"}}, \"type\": \"scatter3d\"}], \"scattercarpet\": [{\"marker\": {\"colorbar\": {\"outlinewidth\": 0, \"ticks\": \"\"}}, \"type\": \"scattercarpet\"}], \"scattergeo\": [{\"marker\": {\"colorbar\": {\"outlinewidth\": 0, \"ticks\": \"\"}}, \"type\": \"scattergeo\"}], \"scattergl\": [{\"marker\": {\"colorbar\": {\"outlinewidth\": 0, \"ticks\": \"\"}}, \"type\": \"scattergl\"}], \"scattermapbox\": [{\"marker\": {\"colorbar\": {\"outlinewidth\": 0, \"ticks\": \"\"}}, \"type\": \"scattermapbox\"}], \"scatterpolar\": [{\"marker\": {\"colorbar\": {\"outlinewidth\": 0, \"ticks\": \"\"}}, \"type\": \"scatterpolar\"}], \"scatterpolargl\": [{\"marker\": {\"colorbar\": {\"outlinewidth\": 0, \"ticks\": \"\"}}, \"type\": \"scatterpolargl\"}], \"scatterternary\": [{\"marker\": {\"colorbar\": {\"outlinewidth\": 0, \"ticks\": \"\"}}, \"type\": \"scatterternary\"}], \"surface\": [{\"colorbar\": {\"outlinewidth\": 0, \"ticks\": \"\"}, \"colorscale\": [[0.0, \"#0d0887\"], [0.1111111111111111, \"#46039f\"], [0.2222222222222222, \"#7201a8\"], [0.3333333333333333, \"#9c179e\"], [0.4444444444444444, \"#bd3786\"], [0.5555555555555556, \"#d8576b\"], [0.6666666666666666, \"#ed7953\"], [0.7777777777777778, \"#fb9f3a\"], [0.8888888888888888, \"#fdca26\"], [1.0, \"#f0f921\"]], \"type\": \"surface\"}], \"table\": [{\"cells\": {\"fill\": {\"color\": \"#EBF0F8\"}, \"line\": {\"color\": \"white\"}}, \"header\": {\"fill\": {\"color\": \"#C8D4E3\"}, \"line\": {\"color\": \"white\"}}, \"type\": \"table\"}]}, \"layout\": {\"annotationdefaults\": {\"arrowcolor\": \"#2a3f5f\", \"arrowhead\": 0, \"arrowwidth\": 1}, \"coloraxis\": {\"colorbar\": {\"outlinewidth\": 0, \"ticks\": \"\"}}, \"colorscale\": {\"diverging\": [[0, \"#8e0152\"], [0.1, \"#c51b7d\"], [0.2, \"#de77ae\"], [0.3, \"#f1b6da\"], [0.4, \"#fde0ef\"], [0.5, \"#f7f7f7\"], [0.6, \"#e6f5d0\"], [0.7, \"#b8e186\"], [0.8, \"#7fbc41\"], [0.9, \"#4d9221\"], [1, \"#276419\"]], \"sequential\": [[0.0, \"#0d0887\"], [0.1111111111111111, \"#46039f\"], [0.2222222222222222, \"#7201a8\"], [0.3333333333333333, \"#9c179e\"], [0.4444444444444444, \"#bd3786\"], [0.5555555555555556, \"#d8576b\"], [0.6666666666666666, \"#ed7953\"], [0.7777777777777778, \"#fb9f3a\"], [0.8888888888888888, \"#fdca26\"], [1.0, \"#f0f921\"]], \"sequentialminus\": [[0.0, \"#0d0887\"], [0.1111111111111111, \"#46039f\"], [0.2222222222222222, \"#7201a8\"], [0.3333333333333333, \"#9c179e\"], [0.4444444444444444, \"#bd3786\"], [0.5555555555555556, \"#d8576b\"], [0.6666666666666666, \"#ed7953\"], [0.7777777777777778, \"#fb9f3a\"], [0.8888888888888888, \"#fdca26\"], [1.0, \"#f0f921\"]]}, \"colorway\": [\"#636efa\", \"#EF553B\", \"#00cc96\", \"#ab63fa\", \"#FFA15A\", \"#19d3f3\", \"#FF6692\", \"#B6E880\", \"#FF97FF\", \"#FECB52\"], \"font\": {\"color\": \"#2a3f5f\"}, \"geo\": {\"bgcolor\": \"white\", \"lakecolor\": \"white\", \"landcolor\": \"#E5ECF6\", \"showlakes\": true, \"showland\": true, \"subunitcolor\": \"white\"}, \"hoverlabel\": {\"align\": \"left\"}, \"hovermode\": \"closest\", \"mapbox\": {\"style\": \"light\"}, \"paper_bgcolor\": \"white\", \"plot_bgcolor\": \"#E5ECF6\", \"polar\": {\"angularaxis\": {\"gridcolor\": \"white\", \"linecolor\": \"white\", \"ticks\": \"\"}, \"bgcolor\": \"#E5ECF6\", \"radialaxis\": {\"gridcolor\": \"white\", \"linecolor\": \"white\", \"ticks\": \"\"}}, \"scene\": {\"xaxis\": {\"backgroundcolor\": \"#E5ECF6\", \"gridcolor\": \"white\", \"gridwidth\": 2, \"linecolor\": \"white\", \"showbackground\": true, \"ticks\": \"\", \"zerolinecolor\": \"white\"}, \"yaxis\": {\"backgroundcolor\": \"#E5ECF6\", \"gridcolor\": \"white\", \"gridwidth\": 2, \"linecolor\": \"white\", \"showbackground\": true, \"ticks\": \"\", \"zerolinecolor\": \"white\"}, \"zaxis\": {\"backgroundcolor\": \"#E5ECF6\", \"gridcolor\": \"white\", \"gridwidth\": 2, \"linecolor\": \"white\", \"showbackground\": true, \"ticks\": \"\", \"zerolinecolor\": \"white\"}}, \"shapedefaults\": {\"line\": {\"color\": \"#2a3f5f\"}}, \"ternary\": {\"aaxis\": {\"gridcolor\": \"white\", \"linecolor\": \"white\", \"ticks\": \"\"}, \"baxis\": {\"gridcolor\": \"white\", \"linecolor\": \"white\", \"ticks\": \"\"}, \"bgcolor\": \"#E5ECF6\", \"caxis\": {\"gridcolor\": \"white\", \"linecolor\": \"white\", \"ticks\": \"\"}}, \"title\": {\"x\": 0.05}, \"xaxis\": {\"automargin\": true, \"gridcolor\": \"white\", \"linecolor\": \"white\", \"ticks\": \"\", \"title\": {\"standoff\": 15}, \"zerolinecolor\": \"white\", \"zerolinewidth\": 2}, \"yaxis\": {\"automargin\": true, \"gridcolor\": \"white\", \"linecolor\": \"white\", \"ticks\": \"\", \"title\": {\"standoff\": 15}, \"zerolinecolor\": \"white\", \"zerolinewidth\": 2}}}, \"title\": {\"font\": {\"color\": \"#4D5663\"}, \"text\": \"Age Distribution\"}, \"xaxis\": {\"gridcolor\": \"#E1E5ED\", \"showgrid\": true, \"tickfont\": {\"color\": \"#4D5663\"}, \"title\": {\"font\": {\"color\": \"#4D5663\"}, \"text\": \"Age\"}, \"zerolinecolor\": \"#E1E5ED\"}, \"yaxis\": {\"gridcolor\": \"#E1E5ED\", \"showgrid\": true, \"tickfont\": {\"color\": \"#4D5663\"}, \"title\": {\"font\": {\"color\": \"#4D5663\"}, \"text\": \"count\"}, \"zerolinecolor\": \"#E1E5ED\"}},\n",
       "                        {\"showLink\": true, \"linkText\": \"Export to plot.ly\", \"plotlyServerURL\": \"https://plot.ly\", \"responsive\": true}\n",
       "                    ).then(function(){\n",
       "                            \n",
       "var gd = document.getElementById('99b619c1-d68e-4afc-8c0b-8d11ff64edea');\n",
       "var x = new MutationObserver(function (mutations, observer) {{\n",
       "        var display = window.getComputedStyle(gd).display;\n",
       "        if (!display || display === 'none') {{\n",
       "            console.log([gd, 'removed!']);\n",
       "            Plotly.purge(gd);\n",
       "            observer.disconnect();\n",
       "        }}\n",
       "}});\n",
       "\n",
       "// Listen for the removal of the full notebook cells\n",
       "var notebookContainer = gd.closest('#notebook-container');\n",
       "if (notebookContainer) {{\n",
       "    x.observe(notebookContainer, {childList: true});\n",
       "}}\n",
       "\n",
       "// Listen for the clearing of the current output cell\n",
       "var outputEl = gd.closest('.output');\n",
       "if (outputEl) {{\n",
       "    x.observe(outputEl, {childList: true});\n",
       "}}\n",
       "\n",
       "                        })\n",
       "                };\n",
       "                });\n",
       "            </script>\n",
       "        </div>"
      ]
     },
     "metadata": {},
     "output_type": "display_data"
    }
   ],
   "source": [
    "artifacts['age'].iplot(kind='hist',\n",
    "                       xTitle='Age',\n",
    "                       yTitle='count',\n",
    "                       title='Age Distribution')"
   ]
  },
  {
   "cell_type": "markdown",
   "metadata": {},
   "source": [
    "#####  No of unique model"
   ]
  },
  {
   "cell_type": "code",
   "execution_count": 43,
   "metadata": {},
   "outputs": [
    {
     "data": {
      "text/plain": [
       "['20190708-0919_2379-595height',\n",
       " '20190806-1551_220-55height',\n",
       " 'GAPNet_height_s1',\n",
       " 'q3-cnndepthmap-resnet-height_run_13',\n",
       " 'q3-depthmap-plaincnn-height-100-95k_run_03',\n",
       " 'q3-depthmap-plaincnn-height-100-95k_run_04',\n",
       " 'q3-depthmap-plaincnn-height-95k_run_03',\n",
       " 'q3-depthmap-plaincnn-height-95k_run_04',\n",
       " 'q3_depthmap_height_run_01',\n",
       " 'q3_depthmap_height_run_02']"
      ]
     },
     "execution_count": 43,
     "metadata": {},
     "output_type": "execute_result"
    }
   ],
   "source": [
    "model_id = artifacts['model_id'].unique().tolist()\n",
    "model_id"
   ]
  },
  {
   "cell_type": "markdown",
   "metadata": {},
   "source": [
    "#### Interatcive tool to play and find any corelation "
   ]
  },
  {
   "cell_type": "code",
   "execution_count": 44,
   "metadata": {},
   "outputs": [
    {
     "data": {
      "application/vnd.jupyter.widget-view+json": {
       "model_id": "09fe47aca8594f82a88f74d1c1657ade",
       "version_major": 2,
       "version_minor": 0
      },
      "text/plain": [
       "interactive(children=(IntSlider(value=900, description='age_start', max=1825, step=180), Dropdown(description=…"
      ]
     },
     "metadata": {},
     "output_type": "display_data"
    }
   ],
   "source": [
    "@interact_manual\n",
    "def show_articles_more_than(age_start=(0, 1825, 180),\n",
    "                            model_id=model_id,\n",
    "                            x=list(artifacts.select_dtypes('number')\n",
    "                                   .columns[2:],),\n",
    "                            y=list(artifacts.select_dtypes('number')\n",
    "                                   .columns)[1:2],\n",
    "                            error=[0.2, 0.4, 0.6, 0.8, 1.0, 1.2, 1.5, 2,\n",
    "                                   2.5, 3.0, 3.5, 4.0, 10.0, 20.0, 40, 60]):\n",
    "    dff = artifacts.loc[artifacts['model_id'] == model_id]\n",
    "    dff = dff.loc[dff['age'] > age_start]\n",
    "    dff = dff.loc[dff['error'] < error]\n",
    "    xaxis = dff[x].tolist()\n",
    "    yaxis = dff[y].tolist()\n",
    "    print(len(xaxis))\n",
    "    print(\"Cofficient constant R\", scipy.stats.pearsonr(xaxis, yaxis)[0])\n",
    "    dff.iplot(kind='scatter', x=x, y=y, mode='markers')"
   ]
  },
  {
   "cell_type": "markdown",
   "metadata": {},
   "source": [
    "### Visualizing the pcd,rgb,posenet with gapnet model \n"
   ]
  },
  {
   "cell_type": "markdown",
   "metadata": {},
   "source": [
    "select data from gapnet model where model_id[2] is gapnet"
   ]
  },
  {
   "cell_type": "code",
   "execution_count": 45,
   "metadata": {},
   "outputs": [
    {
     "data": {
      "text/plain": [
       "(98, 24)"
      ]
     },
     "execution_count": 45,
     "metadata": {},
     "output_type": "execute_result"
    }
   ],
   "source": [
    "df = selectData(artifacts, model_id[2])\n",
    "df.shape"
   ]
  },
  {
   "cell_type": "markdown",
   "metadata": {},
   "source": [
    "show the image and save that in corresponding file"
   ]
  },
  {
   "cell_type": "code",
   "execution_count": 59,
   "metadata": {},
   "outputs": [
    {
     "data": {
      "text/plain": [
       "\"imageshow(df,\\n          result_grid_filename='gridgapnet.jpg',\\n          result_figsize_resolution=80)\\n\""
      ]
     },
     "execution_count": 59,
     "metadata": {},
     "output_type": "execute_result"
    }
   ],
   "source": [
    "#commenting this line as we can't show image with face\n",
    "imageshow(df,\n",
    "          result_grid_filename='gridgapnet.jpg',\n",
    "          result_figsize_resolution=80)\n"
   ]
  },
  {
   "cell_type": "markdown",
   "metadata": {},
   "source": [
    "pcd and rgb of particular index"
   ]
  },
  {
   "cell_type": "code",
   "execution_count": 47,
   "metadata": {},
   "outputs": [],
   "source": [
    "#commenting this line as we can't show image with face\n",
    "pcdrgb(df, 1)"
   ]
  },
  {
   "cell_type": "markdown",
   "metadata": {},
   "source": [
    "### Visualizing the pcd,rgb,posenet with pointnet model \n"
   ]
  },
  {
   "cell_type": "code",
   "execution_count": 48,
   "metadata": {},
   "outputs": [
    {
     "data": {
      "text/plain": [
       "(114, 24)"
      ]
     },
     "execution_count": 48,
     "metadata": {},
     "output_type": "execute_result"
    }
   ],
   "source": [
    "df = selectData(artifacts, model_id[1])\n",
    "df.shape"
   ]
  },
  {
   "cell_type": "code",
   "execution_count": 49,
   "metadata": {},
   "outputs": [],
   "source": [
    "imageshow(df,\n",
    "          result_grid_filename='gridpointnet.jpg',\n",
    "          result_figsize_resolution=80)"
   ]
  },
  {
   "cell_type": "code",
   "execution_count": 50,
   "metadata": {},
   "outputs": [],
   "source": [
    "pcdrgb(df, 0)"
   ]
  },
  {
   "cell_type": "markdown",
   "metadata": {},
   "source": [
    "### Visualizing the pcd,rgb,posenet with deptmap model(q3-cnndepthmap-resnet-height_run_13)"
   ]
  },
  {
   "cell_type": "code",
   "execution_count": 51,
   "metadata": {},
   "outputs": [
    {
     "data": {
      "text/plain": [
       "(80, 24)"
      ]
     },
     "execution_count": 51,
     "metadata": {},
     "output_type": "execute_result"
    }
   ],
   "source": [
    "df = selectData(artifacts, model_id[3])\n",
    "df.shape"
   ]
  },
  {
   "cell_type": "code",
   "execution_count": 54,
   "metadata": {},
   "outputs": [],
   "source": [
    "imageshow(df,\n",
    "          result_grid_filename='griddepthmap.jpg',\n",
    "          result_figsize_resolution=80)"
   ]
  },
  {
   "cell_type": "code",
   "execution_count": 55,
   "metadata": {},
   "outputs": [],
   "source": [
    "pcdrgb(df, 1)"
   ]
  },
  {
   "cell_type": "markdown",
   "metadata": {},
   "source": [
    "Findings\n",
    "1. Disturbance of the pcd clearly give idea about error\n",
    "2. Child with a big face in image-->high error\n",
    "3. Sudden chage in background color -->high error\n",
    "4. As black dosent relfect light some distoration in pcd at hair\n",
    "5. Posenet fails most of the time in detecting error\n",
    "6. Blurry image-->high error\n",
    "\n",
    "TODO\n",
    "1. Visualize light score\n",
    "2. Retrain of gapnet will be very helpful\n"
   ]
  }
 ],
 "metadata": {
  "kernel_info": {
   "name": "python3-azureml"
  },
  "kernelspec": {
   "display_name": "Python 3.6 - AzureML",
   "language": "python",
   "name": "python3-azureml"
  },
  "language_info": {
   "codemirror_mode": {
    "name": "ipython",
    "version": 3
   },
   "file_extension": ".py",
   "mimetype": "text/x-python",
   "name": "python",
   "nbconvert_exporter": "python",
   "pygments_lexer": "ipython3",
   "version": "3.6.9"
  },
  "nteract": {
   "version": "nteract-front-end@1.0.0"
  }
 },
 "nbformat": 4,
 "nbformat_minor": 4
}
